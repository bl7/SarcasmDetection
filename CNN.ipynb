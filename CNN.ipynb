{
 "cells": [
  {
   "cell_type": "code",
   "execution_count": 50,
   "id": "d2f576f8",
   "metadata": {},
   "outputs": [],
   "source": [
    "%matplotlib inline\n",
    "import warnings\n",
    "warnings.filterwarnings('ignore')\n",
    "import sqlite3\n",
    "import pandas as pd\n",
    "import numpy as np\n",
    "import nltk\n",
    "import string\n",
    "import matplotlib.pyplot as plt\n",
    "import seaborn as sns\n",
    "from sklearn.feature_extraction.text import TfidfTransformer\n",
    "from sklearn.feature_extraction.text import TfidfVectorizer\n",
    "\n",
    "from sklearn.feature_extraction.text import CountVectorizer\n",
    "from sklearn.metrics import confusion_matrix\n",
    "from sklearn import metrics\n",
    "from sklearn.metrics import roc_curve, auc\n",
    "from nltk.stem.porter import PorterStemmer\n",
    "import re\n",
    "from nltk.corpus import stopwords\n",
    "from nltk.stem import PorterStemmer\n",
    "from nltk.stem.wordnet import WordNetLemmatizer\n",
    "from gensim.models import Word2Vec\n",
    "from gensim.models import KeyedVectors\n",
    "import pickle\n",
    "from sklearn.metrics import roc_auc_score\n",
    "from tqdm import tqdm\n",
    "import os\n",
    "#from plotly import plotly\n",
    "#import plotly.offline as offline\n",
    "#import plotly.graph_objs as go\n",
    "#offline.init_notebook_mode()\n",
    "from collections import Counter\n",
    "from sklearn.preprocessing import StandardScaler\n",
    "from sklearn.preprocessing import MinMaxScaler\n",
    "import tensorflow as tf\n",
    "from tensorflow.keras.preprocessing import sequence\n",
    "from tensorflow.keras.models import Sequential\n",
    "from tensorflow.keras.layers import Dense, Activation,Flatten,Reshape\n",
    "from tensorflow.keras.layers import Embedding\n",
    "from tensorflow.keras.layers import LSTM\n",
    "from tensorflow.keras.preprocessing.text import Tokenizer\n",
    "import csv\n",
    "from tensorflow.keras.models import Model\n",
    "#import keras\n",
    "from tensorflow.keras import backend as k\n",
    "from tensorflow.keras.layers import Input,Concatenate,Dropout,Dense,BatchNormalization,Conv1D\n",
    "from tensorflow.keras.layers import Input\n",
    "from sklearn.preprocessing import LabelEncoder,OneHotEncoder\n",
    "#from tensorflow.keras.merge import concatenate\n",
    "#import tensorflow as tf\n",
    "from tensorflow.keras.preprocessing.sequence import pad_sequences\n",
    "import scipy\n",
    "from tensorflow.keras.initializers import he_normal,glorot_normal\n",
    "from tensorflow.keras.regularizers import l1,l2\n",
    "from tensorflow.python.keras.callbacks import TensorBoard\n",
    "from tensorflow.keras.callbacks import Callback, EarlyStopping, ModelCheckpoint,LearningRateScheduler,ReduceLROnPlateau\n",
    "from time import time\n",
    "from tensorflow.keras.utils import plot_model\n",
    "from sklearn.metrics import roc_auc_score\n",
    "import tensorflow as tf\n",
    "from tensorflow.keras.callbacks import Callback \n",
    "from sklearn.model_selection import train_test_split\n",
    "from tensorflow.keras.layers import Dense,Input,Activation,BatchNormalization,Dropout\n",
    "from tensorflow.keras.models import Model\n",
    "from tensorflow.keras import optimizers\n",
    "import random as rn\n",
    "import string\n",
    "from sklearn.metrics import f1_score\n",
    "from tensorflow import keras\n",
    "import tensorflow as tf\n",
    "import numpy as np\n",
    "import datetime\n",
    "import os\n",
    "import math\n",
    "import pandas as pd\n",
    "from tensorflow.keras import regularizers\n",
    "from tensorflow.keras.preprocessing.text import one_hot\n",
    "from tensorflow.keras.preprocessing.sequence import pad_sequences\n",
    "from sklearn.preprocessing import LabelEncoder\n",
    "from tensorflow.keras.initializers import glorot_uniform,glorot_normal\n",
    "from tensorflow.keras.layers import MaxPooling1D"
   ]
  },
  {
   "cell_type": "code",
   "execution_count": 51,
   "id": "4d43cfd3",
   "metadata": {},
   "outputs": [
    {
     "data": {
      "text/html": [
       "<div>\n",
       "<style scoped>\n",
       "    .dataframe tbody tr th:only-of-type {\n",
       "        vertical-align: middle;\n",
       "    }\n",
       "\n",
       "    .dataframe tbody tr th {\n",
       "        vertical-align: top;\n",
       "    }\n",
       "\n",
       "    .dataframe thead th {\n",
       "        text-align: right;\n",
       "    }\n",
       "</style>\n",
       "<table border=\"1\" class=\"dataframe\">\n",
       "  <thead>\n",
       "    <tr style=\"text-align: right;\">\n",
       "      <th></th>\n",
       "      <th>label</th>\n",
       "      <th>comment</th>\n",
       "      <th>author</th>\n",
       "      <th>subreddit</th>\n",
       "      <th>score</th>\n",
       "      <th>ups</th>\n",
       "      <th>downs</th>\n",
       "      <th>date</th>\n",
       "      <th>created_utc</th>\n",
       "      <th>parent_comment</th>\n",
       "    </tr>\n",
       "  </thead>\n",
       "  <tbody>\n",
       "    <tr>\n",
       "      <th>0</th>\n",
       "      <td>0</td>\n",
       "      <td>NC and NH.</td>\n",
       "      <td>Trumpbart</td>\n",
       "      <td>politics</td>\n",
       "      <td>2</td>\n",
       "      <td>-1</td>\n",
       "      <td>-1</td>\n",
       "      <td>2016-10</td>\n",
       "      <td>2016-10-16 23:55:23</td>\n",
       "      <td>Yeah, I get that argument. At this point, I'd ...</td>\n",
       "    </tr>\n",
       "    <tr>\n",
       "      <th>1</th>\n",
       "      <td>0</td>\n",
       "      <td>You do know west teams play against west teams...</td>\n",
       "      <td>Shbshb906</td>\n",
       "      <td>nba</td>\n",
       "      <td>-4</td>\n",
       "      <td>-1</td>\n",
       "      <td>-1</td>\n",
       "      <td>2016-11</td>\n",
       "      <td>2016-11-01 00:24:10</td>\n",
       "      <td>The blazers and Mavericks (The wests 5 and 6 s...</td>\n",
       "    </tr>\n",
       "    <tr>\n",
       "      <th>2</th>\n",
       "      <td>0</td>\n",
       "      <td>They were underdogs earlier today, but since G...</td>\n",
       "      <td>Creepeth</td>\n",
       "      <td>nfl</td>\n",
       "      <td>3</td>\n",
       "      <td>3</td>\n",
       "      <td>0</td>\n",
       "      <td>2016-09</td>\n",
       "      <td>2016-09-22 21:45:37</td>\n",
       "      <td>They're favored to win.</td>\n",
       "    </tr>\n",
       "    <tr>\n",
       "      <th>3</th>\n",
       "      <td>0</td>\n",
       "      <td>This meme isn't funny none of the \"new york ni...</td>\n",
       "      <td>icebrotha</td>\n",
       "      <td>BlackPeopleTwitter</td>\n",
       "      <td>-8</td>\n",
       "      <td>-1</td>\n",
       "      <td>-1</td>\n",
       "      <td>2016-10</td>\n",
       "      <td>2016-10-18 21:03:47</td>\n",
       "      <td>deadass don't kill my buzz</td>\n",
       "    </tr>\n",
       "    <tr>\n",
       "      <th>4</th>\n",
       "      <td>0</td>\n",
       "      <td>I could use one of those tools.</td>\n",
       "      <td>cush2push</td>\n",
       "      <td>MaddenUltimateTeam</td>\n",
       "      <td>6</td>\n",
       "      <td>-1</td>\n",
       "      <td>-1</td>\n",
       "      <td>2016-12</td>\n",
       "      <td>2016-12-30 17:00:13</td>\n",
       "      <td>Yep can confirm I saw the tool they use for th...</td>\n",
       "    </tr>\n",
       "  </tbody>\n",
       "</table>\n",
       "</div>"
      ],
      "text/plain": [
       "   label                                            comment     author  \\\n",
       "0      0                                         NC and NH.  Trumpbart   \n",
       "1      0  You do know west teams play against west teams...  Shbshb906   \n",
       "2      0  They were underdogs earlier today, but since G...   Creepeth   \n",
       "3      0  This meme isn't funny none of the \"new york ni...  icebrotha   \n",
       "4      0                    I could use one of those tools.  cush2push   \n",
       "\n",
       "            subreddit  score  ups  downs     date          created_utc  \\\n",
       "0            politics      2   -1     -1  2016-10  2016-10-16 23:55:23   \n",
       "1                 nba     -4   -1     -1  2016-11  2016-11-01 00:24:10   \n",
       "2                 nfl      3    3      0  2016-09  2016-09-22 21:45:37   \n",
       "3  BlackPeopleTwitter     -8   -1     -1  2016-10  2016-10-18 21:03:47   \n",
       "4  MaddenUltimateTeam      6   -1     -1  2016-12  2016-12-30 17:00:13   \n",
       "\n",
       "                                      parent_comment  \n",
       "0  Yeah, I get that argument. At this point, I'd ...  \n",
       "1  The blazers and Mavericks (The wests 5 and 6 s...  \n",
       "2                            They're favored to win.  \n",
       "3                         deadass don't kill my buzz  \n",
       "4  Yep can confirm I saw the tool they use for th...  "
      ]
     },
     "execution_count": 51,
     "metadata": {},
     "output_type": "execute_result"
    }
   ],
   "source": [
    "import pandas as pd\n",
    "data=pd.read_csv('train-balanced-sarcasm.csv')\n",
    "data.head()"
   ]
  },
  {
   "cell_type": "code",
   "execution_count": 52,
   "id": "fc9a751a",
   "metadata": {},
   "outputs": [
    {
     "data": {
      "text/plain": [
       "label              0\n",
       "comment           53\n",
       "author             0\n",
       "subreddit          0\n",
       "score              0\n",
       "ups                0\n",
       "downs              0\n",
       "date               0\n",
       "created_utc        0\n",
       "parent_comment     0\n",
       "dtype: int64"
      ]
     },
     "execution_count": 52,
     "metadata": {},
     "output_type": "execute_result"
    }
   ],
   "source": [
    "data.isnull().sum()"
   ]
  },
  {
   "cell_type": "code",
   "execution_count": 53,
   "id": "06ccded3",
   "metadata": {},
   "outputs": [],
   "source": [
    "data['comment']=data['comment'].fillna('No Comment')"
   ]
  },
  {
   "cell_type": "code",
   "execution_count": 54,
   "id": "7af96798",
   "metadata": {},
   "outputs": [],
   "source": [
    "# Remove Emoji\n",
    "def deEmojify(text):\n",
    "    regrex_pattern = re.compile(pattern = \"[\"\n",
    "        u\"\\U0001F600-\\U0001F64F\"  # emoticons\n",
    "        u\"\\U0001F300-\\U0001F5FF\"  # symbols & pictographs\n",
    "        u\"\\U0001F680-\\U0001F6FF\"  # transport & map symbols\n",
    "        u\"\\U0001F1E0-\\U0001F1FF\"  # flags (iOS)\n",
    "                           \"]+\", flags = re.UNICODE)\n",
    "    return regrex_pattern.sub(r'',text)"
   ]
  },
  {
   "cell_type": "code",
   "execution_count": 55,
   "id": "249ab627",
   "metadata": {},
   "outputs": [],
   "source": [
    "def decontractions(phrase):\n",
    "    \"\"\"decontracted takes text and convert contractions into natural form.\n",
    "     ref: https://stackoverflow.com/questions/19790188/expanding-english-language-contractions-in-python/47091490#47091490\"\"\"\n",
    "    # specific\n",
    "    phrase = re.sub(r\"won\\'t\", \"will not\", phrase)\n",
    "    phrase = re.sub(r\"can\\'t\", \"can not\", phrase)\n",
    "    phrase = re.sub(r\"won\\’t\", \"will not\", phrase)\n",
    "    phrase = re.sub(r\"can\\’t\", \"can not\", phrase)\n",
    "\n",
    "    # general\n",
    "    phrase = re.sub(r\"n\\'t\", \" not\", phrase)\n",
    "    phrase = re.sub(r\"\\'re\", \" are\", phrase)\n",
    "    phrase = re.sub(r\"\\'s\", \" is\", phrase)\n",
    "    phrase = re.sub(r\"\\'d\", \" would\", phrase)\n",
    "    phrase = re.sub(r\"\\'ll\", \" will\", phrase)\n",
    "    phrase = re.sub(r\"\\'t\", \" not\", phrase)\n",
    "    phrase = re.sub(r\"\\'ve\", \" have\", phrase)\n",
    "    phrase = re.sub(r\"\\'m\", \" am\", phrase)\n",
    "\n",
    "    phrase = re.sub(r\"n\\’t\", \" not\", phrase)\n",
    "    phrase = re.sub(r\"\\’re\", \" are\", phrase)\n",
    "    phrase = re.sub(r\"\\’s\", \" is\", phrase)\n",
    "    phrase = re.sub(r\"\\’d\", \" would\", phrase)\n",
    "    phrase = re.sub(r\"\\’ll\", \" will\", phrase)\n",
    "    phrase = re.sub(r\"\\’t\", \" not\", phrase)\n",
    "    phrase = re.sub(r\"\\’ve\", \" have\", phrase)\n",
    "    phrase = re.sub(r\"\\’m\", \" am\", phrase)\n",
    "\n",
    "    return phrase"
   ]
  },
  {
   "cell_type": "code",
   "execution_count": 56,
   "id": "e6bd8d3d",
   "metadata": {},
   "outputs": [
    {
     "name": "stderr",
     "output_type": "stream",
     "text": [
      "[nltk_data] Downloading package stopwords to\n",
      "[nltk_data]     C:\\Users\\Sudin\\AppData\\Roaming\\nltk_data...\n",
      "[nltk_data]   Package stopwords is already up-to-date!\n"
     ]
    },
    {
     "data": {
      "text/plain": [
       "True"
      ]
     },
     "execution_count": 56,
     "metadata": {},
     "output_type": "execute_result"
    }
   ],
   "source": [
    "import nltk\n",
    "nltk.download('stopwords')"
   ]
  },
  {
   "cell_type": "code",
   "execution_count": 57,
   "id": "862b363d",
   "metadata": {},
   "outputs": [
    {
     "name": "stderr",
     "output_type": "stream",
     "text": [
      "100%|██████████| 1010826/1010826 [00:23<00:00, 42216.76it/s]\n"
     ]
    }
   ],
   "source": [
    "from nltk.corpus import stopwords\n",
    "from tqdm import tqdm\n",
    "import re\n",
    "stopwords = stopwords.words('english')\n",
    "def preprocess(text_col,stopword):\n",
    "    preprocessed = []\n",
    "    for sentence in tqdm(text_col.values):\n",
    "        # Replace \"carriage return\" with \"space\".\n",
    "        sentence=str(sentence)\n",
    "        sent = sentence.replace('\\\\r', ' ')\n",
    "        # Replace \"quotes\" with \"space\".\n",
    "        sent = sent.replace('\\\\\"', ' ')\n",
    "        # Replace \"line feed\" with \"space\".\n",
    "        sent = sent.replace('\\\\n', ' ')\n",
    "        # Replace characters between words with \"space\".\n",
    "        sent = re.sub('[^A-Za-z0-9]+', ' ', sent)\n",
    "        #remove stop words\n",
    "        #decontraction\n",
    "        sent=decontractions(sent)\n",
    "        #Remove emoji\n",
    "        sent=deEmojify(sent)\n",
    "        if stopword:\n",
    "            sent = ' '.join(e for e in sent.split() if e not in stopwords)\n",
    "        else:\n",
    "           sent = ' '.join(e for e in sent.split())\n",
    "        # to lowercase\n",
    "        preprocessed.append(sent.lower().strip())\n",
    "    return preprocessed\n",
    "data['comment']=preprocess(data['comment'],stopword=False)"
   ]
  },
  {
   "cell_type": "code",
   "execution_count": 58,
   "id": "e39ed43a",
   "metadata": {},
   "outputs": [
    {
     "name": "stderr",
     "output_type": "stream",
     "text": [
      "100%|██████████| 1010826/1010826 [00:31<00:00, 32397.97it/s]\n"
     ]
    }
   ],
   "source": [
    "data['parent_comment']=preprocess(data['parent_comment'],stopword=False)"
   ]
  },
  {
   "cell_type": "code",
   "execution_count": 60,
   "id": "bd6a9478",
   "metadata": {},
   "outputs": [
    {
     "data": {
      "text/plain": [
       "label             0\n",
       "comment           0\n",
       "author            0\n",
       "subreddit         0\n",
       "score             0\n",
       "ups               0\n",
       "downs             0\n",
       "date              0\n",
       "created_utc       0\n",
       "parent_comment    0\n",
       "dtype: int64"
      ]
     },
     "execution_count": 60,
     "metadata": {},
     "output_type": "execute_result"
    }
   ],
   "source": [
    "data.isnull().sum()"
   ]
  },
  {
   "cell_type": "code",
   "execution_count": 61,
   "id": "24dc2783",
   "metadata": {},
   "outputs": [
    {
     "name": "stderr",
     "output_type": "stream",
     "text": [
      "[nltk_data] Downloading package vader_lexicon to\n",
      "[nltk_data]     C:\\Users\\Sudin\\AppData\\Roaming\\nltk_data...\n",
      "[nltk_data]   Package vader_lexicon is already up-to-date!\n"
     ]
    },
    {
     "data": {
      "text/plain": [
       "True"
      ]
     },
     "execution_count": 61,
     "metadata": {},
     "output_type": "execute_result"
    }
   ],
   "source": [
    "import nltk\n",
    "nltk.download('vader_lexicon')"
   ]
  },
  {
   "cell_type": "code",
   "execution_count": 62,
   "id": "7f1a5cb1",
   "metadata": {},
   "outputs": [
    {
     "name": "stderr",
     "output_type": "stream",
     "text": [
      "100%|██████████| 1010826/1010826 [04:30<00:00, 3733.12it/s]\n"
     ]
    }
   ],
   "source": [
    "#Polarity Score\n",
    "\n",
    "import nltk\n",
    "from tqdm import tqdm\n",
    "from nltk.sentiment.vader import SentimentIntensityAnalyzer\n",
    "def generate_sentiment_scores(data):\n",
    "    sid = SentimentIntensityAnalyzer()\n",
    "    neg=[]\n",
    "    pos=[]\n",
    "    neu=[]\n",
    "    comp=[]\n",
    "    for sentence in tqdm(data['parent_comment'].values): \n",
    "        sentence_sentiment_score = sid.polarity_scores(sentence)\n",
    "        comp.append(sentence_sentiment_score['compound'])\n",
    "        neg.append(sentence_sentiment_score['neg'])\n",
    "        pos.append(sentence_sentiment_score['pos'])\n",
    "        neu.append(sentence_sentiment_score['neu'])\n",
    "    return comp,neg,pos,neu\n",
    "data['compound'],data['negative'],data['positive'],data['neutral']=generate_sentiment_scores(data)"
   ]
  },
  {
   "cell_type": "code",
   "execution_count": 63,
   "id": "56b7990d",
   "metadata": {},
   "outputs": [
    {
     "data": {
      "text/plain": [
       "(1010826, 2)"
      ]
     },
     "execution_count": 63,
     "metadata": {},
     "output_type": "execute_result"
    }
   ],
   "source": [
    "data['com_len']=data['comment'].apply(lambda x:len(x.split()))\n",
    "data['parent_com_len']=data['parent_comment'].apply(lambda x:len(x.split()))\n",
    "data['comment']=data['comment']+\" \"+data['author']+\" \"+data['subreddit']\n",
    "labels=tf.keras.utils.to_categorical(data['label'].values,num_classes=2)\n",
    "labels.shape"
   ]
  },
  {
   "cell_type": "code",
   "execution_count": 64,
   "id": "bf61e9e9",
   "metadata": {},
   "outputs": [],
   "source": [
    "y=data['label']\n",
    "X=data.drop(['label','date','created_utc'],axis=1)\n",
    "from sklearn.model_selection import train_test_split\n",
    "X_train,X_test,y_train,y_test=train_test_split(X,labels,test_size=0.3,random_state=42,stratify=labels)"
   ]
  },
  {
   "cell_type": "code",
   "execution_count": 65,
   "id": "44dbb64c",
   "metadata": {},
   "outputs": [],
   "source": [
    "def pad_text(text,tokenizer,max_len):\n",
    "    return pad_sequences(tokenizer.texts_to_sequences(text),maxlen=max_len,padding='post')"
   ]
  },
  {
   "cell_type": "code",
   "execution_count": 66,
   "id": "9dbc5405",
   "metadata": {},
   "outputs": [],
   "source": [
    "from tensorflow.keras.preprocessing.text import Tokenizer\n",
    "def text_padding(train,test,max_len):\n",
    "    token=Tokenizer(num_words = max_len,oov_token='OOV')\n",
    "    token.fit_on_texts(train)\n",
    "    padded_train_text=pad_text(train,token,max_len)\n",
    "    padded_test_text=pad_text(test,token,max_len)\n",
    "    return padded_train_text,padded_test_text,token"
   ]
  },
  {
   "cell_type": "code",
   "execution_count": 67,
   "id": "3be65d8a",
   "metadata": {},
   "outputs": [
    {
     "name": "stdout",
     "output_type": "stream",
     "text": [
      "(707578, 500) (303248, 500)\n"
     ]
    }
   ],
   "source": [
    "comm_len=500\n",
    "train_com_pad,test_com_pad,token_com= text_padding(X_train['comment'],X_test['comment'],comm_len)\n",
    "print(train_com_pad.shape,test_com_pad.shape)"
   ]
  },
  {
   "cell_type": "code",
   "execution_count": 68,
   "id": "0a42cf47",
   "metadata": {},
   "outputs": [
    {
     "name": "stdout",
     "output_type": "stream",
     "text": [
      "(707578, 500) (303248, 500)\n"
     ]
    }
   ],
   "source": [
    "par_comm_len=500\n",
    "train_par_com_pad,test_par_com_pad,token_par= text_padding(X_train['parent_comment'],X_test['parent_comment'],par_comm_len)\n",
    "print(train_par_com_pad.shape,test_par_com_pad.shape)"
   ]
  },
  {
   "cell_type": "code",
   "execution_count": 69,
   "id": "d277d206",
   "metadata": {},
   "outputs": [
    {
     "name": "stdout",
     "output_type": "stream",
     "text": [
      "(707578, 200) (303248, 200)\n"
     ]
    }
   ],
   "source": [
    "par_comm_len=200\n",
    "train_par_com_pad,test_par_com_pad,token_par= text_padding(X_train['parent_comment'],X_test['parent_comment'],par_comm_len)\n",
    "print(train_par_com_pad.shape,test_par_com_pad.shape)"
   ]
  },
  {
   "cell_type": "code",
   "execution_count": 70,
   "id": "a492c1bd",
   "metadata": {},
   "outputs": [
    {
     "name": "stdout",
     "output_type": "stream",
     "text": [
      "Wall time: 13 ms\n"
     ]
    }
   ],
   "source": [
    "%%time\n",
    "from sklearn.preprocessing import Normalizer\n",
    "trans = Normalizer()\n",
    "X_train_score=trans.fit_transform(X_train['score'].values.reshape(-1,1))\n",
    "X_test_score=trans.transform(X_test['score'].values.reshape(-1,1))"
   ]
  },
  {
   "cell_type": "code",
   "execution_count": 71,
   "id": "c0ff8593",
   "metadata": {},
   "outputs": [
    {
     "name": "stdout",
     "output_type": "stream",
     "text": [
      "Wall time: 12 ms\n"
     ]
    }
   ],
   "source": [
    "%%time\n",
    "trans = Normalizer()\n",
    "X_train_ups=trans.fit_transform(X_train['ups'].values.reshape(-1,1))\n",
    "X_test_ups=trans.transform(X_test['ups'].values.reshape(-1,1))"
   ]
  },
  {
   "cell_type": "code",
   "execution_count": 72,
   "id": "97a16f02",
   "metadata": {},
   "outputs": [
    {
     "name": "stdout",
     "output_type": "stream",
     "text": [
      "Wall time: 15 ms\n"
     ]
    }
   ],
   "source": [
    "%%time\n",
    "trans = Normalizer()\n",
    "X_train_downs=trans.fit_transform(X_train['downs'].values.reshape(-1,1))\n",
    "X_test_downs=trans.transform(X_test['downs'].values.reshape(-1,1))"
   ]
  },
  {
   "cell_type": "code",
   "execution_count": 73,
   "id": "d011f1e4",
   "metadata": {},
   "outputs": [
    {
     "name": "stdout",
     "output_type": "stream",
     "text": [
      "Wall time: 22 ms\n"
     ]
    }
   ],
   "source": [
    "%%time\n",
    "trans = Normalizer()\n",
    "X_train_comp=trans.fit_transform(X_train['compound'].values.reshape(-1,1))\n",
    "X_test_comp=trans.transform(X_test['compound'].values.reshape(-1,1))"
   ]
  },
  {
   "cell_type": "code",
   "execution_count": 74,
   "id": "58cf5552",
   "metadata": {},
   "outputs": [
    {
     "name": "stdout",
     "output_type": "stream",
     "text": [
      "Wall time: 21 ms\n"
     ]
    }
   ],
   "source": [
    "%%time\n",
    "trans = Normalizer()\n",
    "X_train_neg=trans.fit_transform(X_train['negative'].values.reshape(-1,1))\n",
    "X_test_neg=trans.transform(X_test['negative'].values.reshape(-1,1))"
   ]
  },
  {
   "cell_type": "code",
   "execution_count": 75,
   "id": "297fc328",
   "metadata": {},
   "outputs": [
    {
     "name": "stdout",
     "output_type": "stream",
     "text": [
      "Wall time: 19 ms\n"
     ]
    }
   ],
   "source": [
    "%%time\n",
    "trans = Normalizer()\n",
    "X_train_pos=trans.fit_transform(X_train['positive'].values.reshape(-1,1))\n",
    "X_test_pos=trans.transform(X_test['positive'].values.reshape(-1,1))"
   ]
  },
  {
   "cell_type": "code",
   "execution_count": 76,
   "id": "cd9960a6",
   "metadata": {},
   "outputs": [
    {
     "name": "stdout",
     "output_type": "stream",
     "text": [
      "Wall time: 12 ms\n"
     ]
    }
   ],
   "source": [
    "%%time\n",
    "trans = Normalizer()\n",
    "X_train_neu=trans.fit_transform(X_train['neutral'].values.reshape(-1,1))\n",
    "X_test_neu=trans.transform(X_test['neutral'].values.reshape(-1,1))"
   ]
  },
  {
   "cell_type": "code",
   "execution_count": 77,
   "id": "4da8809e",
   "metadata": {},
   "outputs": [
    {
     "name": "stdout",
     "output_type": "stream",
     "text": [
      "Wall time: 11 ms\n"
     ]
    }
   ],
   "source": [
    "%%time\n",
    "trans = Normalizer()\n",
    "X_train_com_len=trans.fit_transform(X_train['com_len'].values.reshape(-1,1))\n",
    "X_test_com_len=trans.transform(X_test['com_len'].values.reshape(-1,1))"
   ]
  },
  {
   "cell_type": "code",
   "execution_count": 78,
   "id": "2506aa8e",
   "metadata": {},
   "outputs": [
    {
     "name": "stdout",
     "output_type": "stream",
     "text": [
      "Wall time: 11 ms\n"
     ]
    }
   ],
   "source": [
    "%%time\n",
    "trans = Normalizer()\n",
    "X_train_parent_com_len=trans.fit_transform(X_train['parent_com_len'].values.reshape(-1,1))\n",
    "X_test_parent_com_len=trans.transform(X_test['parent_com_len'].values.reshape(-1,1))"
   ]
  },
  {
   "cell_type": "code",
   "execution_count": 79,
   "id": "65e0f282",
   "metadata": {},
   "outputs": [],
   "source": [
    "numerical_train=np.concatenate((X_train_score,X_train_ups,X_train_downs,X_train_comp,X_train_neu,X_train_neg,X_train_pos,X_train_com_len,X_train_parent_com_len),axis=1)"
   ]
  },
  {
   "cell_type": "code",
   "execution_count": 80,
   "id": "3fac72ee",
   "metadata": {},
   "outputs": [],
   "source": [
    "numerical_test=np.concatenate((X_test_score,X_test_ups,X_test_downs,X_test_comp,X_test_neu,X_test_neg,X_test_pos,X_test_com_len,X_test_parent_com_len),axis=1)"
   ]
  },
  {
   "cell_type": "code",
   "execution_count": 81,
   "id": "7cd912fb",
   "metadata": {},
   "outputs": [
    {
     "name": "stdout",
     "output_type": "stream",
     "text": [
      "(707578, 9) (303248, 9)\n"
     ]
    }
   ],
   "source": [
    "print(numerical_train.shape,numerical_test.shape)"
   ]
  },
  {
   "cell_type": "code",
   "execution_count": 82,
   "id": "cfc62d1a",
   "metadata": {},
   "outputs": [],
   "source": [
    "X_train=[train_com_pad,train_par_com_pad,numerical_train]\n",
    "X_test=[test_com_pad,test_par_com_pad,numerical_test]"
   ]
  },
  {
   "cell_type": "code",
   "execution_count": 83,
   "id": "193dfebb",
   "metadata": {},
   "outputs": [],
   "source": [
    "#Model:-1\n",
    "#CNN1D without Embedding dimension\n",
    "def Deep_CNN1D():\n",
    "    input_1 = Input(shape=(500,),name = 'input_comment')\n",
    "    emb_text_layer_1 = Embedding(input_dim = 500,output_dim = 100,input_length = 500)(input_1)\n",
    "    emb_text_layer_1 = Dropout(0.4)(emb_text_layer_1)\n",
    "    conv1_1 = Conv1D(128,8,1,activation='relu',kernel_initializer=glorot_uniform(seed=42))(emb_text_layer_1)\n",
    "    max1_1 = MaxPooling1D(pool_size= 4,)(conv1_1)\n",
    "    conv1_2 = Conv1D(64,4,1,activation='relu',kernel_initializer=glorot_uniform(seed=42))(max1_1)\n",
    "    max1_2 = MaxPooling1D(4)(conv1_2)\n",
    "    #lstm_output = LSTM(32, return_sequences = True,name= \"LSTM\",kernel_initializer=glorot_uniform(seed=42))(max2)\n",
    "    flatten_1 = Flatten()(max1_2)\n",
    "\n",
    "    # creating layers for parent comment data\n",
    "    input_2 = Input(shape=(200,),name = 'input_parent_comment')\n",
    "    emb_text_layer_2 = Embedding(input_dim = 500,output_dim = 100,input_length = 200)(input_2)\n",
    "    emb_text_layer_2 = Dropout(0.4)(emb_text_layer_2)\n",
    "    conv2_1 = Conv1D(128,8,1,activation='relu',kernel_initializer=glorot_uniform(seed=42))(emb_text_layer_2)\n",
    "    max2_1 = MaxPooling1D(pool_size= 4,)(conv2_1)\n",
    "    conv2_2 = Conv1D(64,4,1,activation='relu',kernel_initializer=glorot_uniform(seed=42))(max2_1)\n",
    "    max2_2 = MaxPooling1D(4)(conv2_2)\n",
    "    #lstm_output2 = LSTM(256, return_sequences = True, dropout = 0.5,name= \"LSTM2\")(emb_text_layer2)\n",
    "    flatten_2 = Flatten()(max2_2)\n",
    "\n",
    "    # creating layers for numerical columns\n",
    "    input_3 = Input(shape=(9,), name = \"input_numerical\")\n",
    "    dense_num_layer = Dense(128, activation = \"relu\")(input_3)\n",
    "\n",
    "    concatenated_layer = keras.layers.concatenate([flatten_1,flatten_2,dense_num_layer],axis=-1)\n",
    "\n",
    "    # creating further layers\n",
    "    x = Dense(128, activation = 'relu',kernel_initializer=glorot_uniform(seed=42))(concatenated_layer)\n",
    "    x = Dense(64, activation = 'relu',kernel_initializer=glorot_uniform(seed=42))(x)\n",
    "    x = Dense(32, activation = 'relu',kernel_initializer=glorot_uniform(seed=42))(x)\n",
    "    x = Dense(16, activation = 'relu',kernel_initializer=glorot_uniform(seed=42))(x)\n",
    "    output = Dense(2, activation = 'softmax', name= 'model_output',kernel_initializer=glorot_uniform(seed=42))(x)\n",
    "    model = Model(inputs = [input_1,input_2,input_3], outputs = [output])\n",
    "    return model"
   ]
  },
  {
   "cell_type": "code",
   "execution_count": 84,
   "id": "b1398ec1",
   "metadata": {},
   "outputs": [
    {
     "name": "stdout",
     "output_type": "stream",
     "text": [
      "Model: \"model_1\"\n",
      "__________________________________________________________________________________________________\n",
      " Layer (type)                   Output Shape         Param #     Connected to                     \n",
      "==================================================================================================\n",
      " input_comment (InputLayer)     [(None, 500)]        0           []                               \n",
      "                                                                                                  \n",
      " input_parent_comment (InputLay  [(None, 200)]       0           []                               \n",
      " er)                                                                                              \n",
      "                                                                                                  \n",
      " embedding_2 (Embedding)        (None, 500, 100)     50000       ['input_comment[0][0]']          \n",
      "                                                                                                  \n",
      " embedding_3 (Embedding)        (None, 200, 100)     50000       ['input_parent_comment[0][0]']   \n",
      "                                                                                                  \n",
      " dropout_2 (Dropout)            (None, 500, 100)     0           ['embedding_2[0][0]']            \n",
      "                                                                                                  \n",
      " dropout_3 (Dropout)            (None, 200, 100)     0           ['embedding_3[0][0]']            \n",
      "                                                                                                  \n",
      " conv1d_4 (Conv1D)              (None, 493, 128)     102528      ['dropout_2[0][0]']              \n",
      "                                                                                                  \n",
      " conv1d_6 (Conv1D)              (None, 193, 128)     102528      ['dropout_3[0][0]']              \n",
      "                                                                                                  \n",
      " max_pooling1d_4 (MaxPooling1D)  (None, 123, 128)    0           ['conv1d_4[0][0]']               \n",
      "                                                                                                  \n",
      " max_pooling1d_6 (MaxPooling1D)  (None, 48, 128)     0           ['conv1d_6[0][0]']               \n",
      "                                                                                                  \n",
      " conv1d_5 (Conv1D)              (None, 120, 64)      32832       ['max_pooling1d_4[0][0]']        \n",
      "                                                                                                  \n",
      " conv1d_7 (Conv1D)              (None, 45, 64)       32832       ['max_pooling1d_6[0][0]']        \n",
      "                                                                                                  \n",
      " max_pooling1d_5 (MaxPooling1D)  (None, 30, 64)      0           ['conv1d_5[0][0]']               \n",
      "                                                                                                  \n",
      " max_pooling1d_7 (MaxPooling1D)  (None, 11, 64)      0           ['conv1d_7[0][0]']               \n",
      "                                                                                                  \n",
      " input_numerical (InputLayer)   [(None, 9)]          0           []                               \n",
      "                                                                                                  \n",
      " flatten_2 (Flatten)            (None, 1920)         0           ['max_pooling1d_5[0][0]']        \n",
      "                                                                                                  \n",
      " flatten_3 (Flatten)            (None, 704)          0           ['max_pooling1d_7[0][0]']        \n",
      "                                                                                                  \n",
      " dense_5 (Dense)                (None, 128)          1280        ['input_numerical[0][0]']        \n",
      "                                                                                                  \n",
      " concatenate_1 (Concatenate)    (None, 2752)         0           ['flatten_2[0][0]',              \n",
      "                                                                  'flatten_3[0][0]',              \n",
      "                                                                  'dense_5[0][0]']                \n",
      "                                                                                                  \n",
      " dense_6 (Dense)                (None, 128)          352384      ['concatenate_1[0][0]']          \n",
      "                                                                                                  \n",
      " dense_7 (Dense)                (None, 64)           8256        ['dense_6[0][0]']                \n",
      "                                                                                                  \n",
      " dense_8 (Dense)                (None, 32)           2080        ['dense_7[0][0]']                \n",
      "                                                                                                  \n",
      " dense_9 (Dense)                (None, 16)           528         ['dense_8[0][0]']                \n",
      "                                                                                                  \n",
      " model_output (Dense)           (None, 2)            34          ['dense_9[0][0]']                \n",
      "                                                                                                  \n",
      "==================================================================================================\n",
      "Total params: 735,282\n",
      "Trainable params: 735,282\n",
      "Non-trainable params: 0\n",
      "__________________________________________________________________________________________________\n"
     ]
    }
   ],
   "source": [
    "model=Deep_CNN1D()\n",
    "model.summary()"
   ]
  },
  {
   "cell_type": "code",
   "execution_count": 85,
   "id": "6aee2946",
   "metadata": {},
   "outputs": [
    {
     "name": "stdout",
     "output_type": "stream",
     "text": [
      "('You must install pydot (`pip install pydot`) and install graphviz (see instructions at https://graphviz.gitlab.io/download/) ', 'for plot_model/model_to_dot to work.')\n"
     ]
    }
   ],
   "source": [
    "tf.keras.utils.plot_model(\n",
    "    model, to_file='model.png', show_shapes=True, show_layer_names=True,\n",
    "    rankdir='TB')"
   ]
  },
  {
   "cell_type": "code",
   "execution_count": 86,
   "id": "edf9eb1b",
   "metadata": {},
   "outputs": [],
   "source": [
    "import tensorflow as tf\n",
    "adam = tf.keras.optimizers.Adam(lr=0.0001)\n",
    "model.compile(optimizer=adam, loss='categorical_crossentropy',metrics=['accuracy'])"
   ]
  },
  {
   "cell_type": "code",
   "execution_count": 87,
   "id": "19b3eddc",
   "metadata": {},
   "outputs": [],
   "source": [
    "from tensorflow.keras.callbacks import *\n",
    "import os\n",
    "filepath=\"weights_1.best.hdf1\"\n",
    "checkpoint = ModelCheckpoint(filepath, monitor='val_accuracy', verbose=1, mode='max')\n",
    "earlystop = EarlyStopping(monitor = 'val_accuracy',  mode=\"max\",min_delta = 0, patience = 3,verbose = 1)\n",
    "reduce_lr = ReduceLROnPlateau(monitor = 'val_accuracy', factor = 0.25, patience = 2, verbose = 1)\n",
    "%reload_ext tensorboard\n",
    "import datetime\n",
    "logdir = os.path.join(\"logs_1\", datetime.datetime.now().strftime(\"%Y%m%d-%H%M%S\"))\n",
    "#tensorboard = tf.keras.callbacks.TensorBoard(logdir, histogram_freq=1)\n",
    "tensorboard = TensorBoard(log_dir=logdir, histogram_freq=0, write_graph=True, write_grads=False, write_images=False)\n",
    "callbacks = [checkpoint,reduce_lr,tensorboard,earlystop]"
   ]
  },
  {
   "cell_type": "code",
   "execution_count": 90,
   "id": "2fe92c11",
   "metadata": {},
   "outputs": [
    {
     "name": "stdout",
     "output_type": "stream",
     "text": [
      "Epoch 1/5\n",
      "1382/1382 [==============================] - ETA: 0s - loss: 0.6207 - accuracy: 0.6456\n",
      "Epoch 00001: saving model to weights_1.best.hdf1\n",
      "INFO:tensorflow:Assets written to: weights_1.best.hdf1\\assets\n",
      "1382/1382 [==============================] - 2325s 2s/step - loss: 0.6207 - accuracy: 0.6456 - val_loss: 0.5891 - val_accuracy: 0.6833 - lr: 1.0000e-04\n",
      "Epoch 2/5\n",
      "1382/1382 [==============================] - ETA: 0s - loss: 0.5848 - accuracy: 0.6851\n",
      "Epoch 00002: saving model to weights_1.best.hdf1\n",
      "INFO:tensorflow:Assets written to: weights_1.best.hdf1\\assets\n",
      "1382/1382 [==============================] - 2320s 2s/step - loss: 0.5848 - accuracy: 0.6851 - val_loss: 0.5805 - val_accuracy: 0.6902 - lr: 1.0000e-04\n",
      "Epoch 3/5\n",
      "1382/1382 [==============================] - ETA: 0s - loss: 0.5787 - accuracy: 0.6902\n",
      "Epoch 00003: saving model to weights_1.best.hdf1\n",
      "INFO:tensorflow:Assets written to: weights_1.best.hdf1\\assets\n",
      "1382/1382 [==============================] - 2488s 2s/step - loss: 0.5787 - accuracy: 0.6902 - val_loss: 0.5757 - val_accuracy: 0.6937 - lr: 1.0000e-04\n",
      "Epoch 4/5\n",
      "1382/1382 [==============================] - ETA: 0s - loss: 0.5739 - accuracy: 0.6945\n",
      "Epoch 00004: saving model to weights_1.best.hdf1\n",
      "INFO:tensorflow:Assets written to: weights_1.best.hdf1\\assets\n",
      "1382/1382 [==============================] - 2188s 2s/step - loss: 0.5739 - accuracy: 0.6945 - val_loss: 0.5719 - val_accuracy: 0.6967 - lr: 1.0000e-04\n",
      "Epoch 5/5\n",
      "1382/1382 [==============================] - ETA: 0s - loss: 0.5696 - accuracy: 0.6979\n",
      "Epoch 00005: saving model to weights_1.best.hdf1\n",
      "INFO:tensorflow:Assets written to: weights_1.best.hdf1\\assets\n",
      "1382/1382 [==============================] - 2314s 2s/step - loss: 0.5696 - accuracy: 0.6979 - val_loss: 0.5703 - val_accuracy: 0.6970 - lr: 1.0000e-04\n"
     ]
    }
   ],
   "source": [
    "hitory=model.fit(x=X_train,y=y_train,epochs=5,batch_size=512,validation_data=(X_test, y_test),callbacks=callbacks)"
   ]
  },
  {
   "cell_type": "code",
   "execution_count": 91,
   "id": "b5359ede",
   "metadata": {},
   "outputs": [
    {
     "data": {
      "image/png": "[encoded data removed]",
      "text/plain": [
       "<Figure size 2160x360 with 2 Axes>"
      ]
     },
     "metadata": {
      "needs_background": "light"
     },
     "output_type": "display_data"
    }
   ],
   "source": [
    "import matplotlib.pyplot as plt\n",
    "plt.figure(figsize=(30, 5))\n",
    "plt.subplot(121)\n",
    "plt.plot(hitory.history['loss'])\n",
    "plt.plot(hitory.history['val_loss'])\n",
    "plt.title('Model Loss')\n",
    "plt.ylabel('loss')\n",
    "plt.xlabel('Epoch')\n",
    "plt.legend(['Train', 'Test'], loc='upper left')\n",
    "\n",
    "# Plot training & validation f1_score\n",
    "plt.subplot(122)\n",
    "plt.plot(hitory.history['accuracy'])\n",
    "plt.plot(hitory.history['val_accuracy'])\n",
    "plt.title('Model Accuracy')\n",
    "plt.ylabel('accuracy')\n",
    "plt.xlabel('Epoch')\n",
    "plt.legend(['Train', 'Test'], loc='upper left')\n",
    "plt.show()"
   ]
  },
  {
   "cell_type": "code",
   "execution_count": 92,
   "id": "08734aca",
   "metadata": {},
   "outputs": [],
   "source": [
    "#Model:-2\n",
    "def Deep_CNN1D2():\n",
    "    input_1 = Input(shape=(500,),name = 'input_comment')\n",
    "    embedding_layer_1 = Embedding(input_dim = 500,output_dim = 100,input_length = 500)(input_1)\n",
    "    conv_1_1 = Conv1D(32,3,strides=2, padding='same',activation='relu')(embedding_layer_1)\n",
    "    conv_1_2 = Conv1D(16,3, strides=2, padding='same',activation='relu')(embedding_layer_1)\n",
    "    conv_1_3 = Conv1D(8,3, strides=2, padding='same',activation='relu')(embedding_layer_1)\n",
    "    concate_1 = keras.layers.Concatenate(axis=-1)([conv_1_1, conv_1_2, conv_1_3])\n",
    "    pool_1 = keras.layers.MaxPooling1D(pool_size=2, strides=2, padding='same')(concate_1)\n",
    "    conv_2_1 = keras.layers.Conv1D(8,7, strides=2, padding='same',activation='relu')(pool_1)\n",
    "    conv_2_2 = keras.layers.Conv1D(16,5, strides=2, padding='same',activation='relu')(pool_1) \n",
    "    conv_2_3 = keras.layers.Conv1D(32,3, strides=2, padding='same',activation='relu')(pool_1)\n",
    "    concate_2 = keras.layers.Concatenate(axis=-1)([conv_2_1, conv_2_2, conv_2_3])\n",
    "    pool_2 = keras.layers.MaxPooling1D(pool_size=2, strides=2, padding='same')(concate_2)\n",
    "    conv_3 = Conv1D(20,3,strides=2, padding='same')(pool_2)\n",
    "    flatten_1 = Flatten()(conv_3)\n",
    "\n",
    "    # creating layers for parent comment data\n",
    "    input_2 = Input(shape=(200,),name = 'input_parent_comment')\n",
    "    embedding_layer_2 = Embedding(input_dim = 500,output_dim = 100,input_length = 200)(input_2)\n",
    "    conv_1_1 = Conv1D(32,3,strides=2, padding='same',activation='relu')(embedding_layer_2)\n",
    "    conv_1_2 = Conv1D(16,3, strides=2, padding='same',activation='relu')(embedding_layer_2)\n",
    "    conv_1_3 = Conv1D(8,3, strides=2, padding='same',activation='relu')(embedding_layer_2)\n",
    "    concate_1 = keras.layers.Concatenate(axis=-1)([conv_1_1, conv_1_2, conv_1_3])\n",
    "    pool_1 = keras.layers.MaxPooling1D(pool_size=2, strides=2, padding='same')(concate_1)\n",
    "    conv_2_1 = keras.layers.Conv1D(8,7, strides=2, padding='same',activation='relu')(pool_1)\n",
    "    conv_2_2 = keras.layers.Conv1D(16,5, strides=2, padding='same',activation='relu')(pool_1) \n",
    "    conv_2_3 = keras.layers.Conv1D(32,3, strides=2, padding='same',activation='relu')(pool_1)\n",
    "    concate_2 = keras.layers.Concatenate(axis=-1)([conv_2_1, conv_2_2, conv_2_3])\n",
    "    pool_2 = keras.layers.MaxPooling1D(pool_size=2, strides=2, padding='same')(concate_2)\n",
    "    conv_131 = Conv1D(20,3,strides=2, padding='same')(pool_2)\n",
    "    flatten_2 = Flatten()(conv_131)\n",
    "\n",
    "    # creating layers for numerical columns\n",
    "    input_3 = Input(shape=(9,), name = \"input_numerical\")\n",
    "    dense_num_layer = Dense(128, activation = \"relu\")(input_3)\n",
    "\n",
    "    concatenated_layer = keras.layers.concatenate([flatten_1,flatten_2,dense_num_layer],axis=-1)\n",
    "\n",
    "    # creating further layers\n",
    "    x = Dense(128, activation = 'relu',kernel_initializer=glorot_uniform(seed=42))(concatenated_layer)\n",
    "    x = BatchNormalization()(x)\n",
    "    x = Dense(64, activation = 'relu',kernel_initializer=glorot_uniform(seed=42))(x)\n",
    "    x = BatchNormalization()(x)\n",
    "    x = Dense(32, activation = 'relu',kernel_initializer=glorot_uniform(seed=42))(x)\n",
    "    x = BatchNormalization()(x)\n",
    "    x = Dense(16, activation = 'relu',kernel_initializer=glorot_uniform(seed=42))(x)\n",
    "    output = Dense(2, activation = 'softmax', name= 'model_output',kernel_initializer=glorot_uniform(seed=42))(x)\n",
    "    model = Model(inputs = [input_1,input_2,input_3], outputs = [output])\n",
    "    return model"
   ]
  },
  {
   "cell_type": "code",
   "execution_count": 93,
   "id": "63af06cc",
   "metadata": {},
   "outputs": [
    {
     "name": "stdout",
     "output_type": "stream",
     "text": [
      "Model: \"model_2\"\n",
      "__________________________________________________________________________________________________\n",
      " Layer (type)                   Output Shape         Param #     Connected to                     \n",
      "==================================================================================================\n",
      " input_comment (InputLayer)     [(None, 500)]        0           []                               \n",
      "                                                                                                  \n",
      " input_parent_comment (InputLay  [(None, 200)]       0           []                               \n",
      " er)                                                                                              \n",
      "                                                                                                  \n",
      " embedding_4 (Embedding)        (None, 500, 100)     50000       ['input_comment[0][0]']          \n",
      "                                                                                                  \n",
      " embedding_5 (Embedding)        (None, 200, 100)     50000       ['input_parent_comment[0][0]']   \n",
      "                                                                                                  \n",
      " conv1d_8 (Conv1D)              (None, 250, 32)      9632        ['embedding_4[0][0]']            \n",
      "                                                                                                  \n",
      " conv1d_9 (Conv1D)              (None, 250, 16)      4816        ['embedding_4[0][0]']            \n",
      "                                                                                                  \n",
      " conv1d_10 (Conv1D)             (None, 250, 8)       2408        ['embedding_4[0][0]']            \n",
      "                                                                                                  \n",
      " conv1d_15 (Conv1D)             (None, 100, 32)      9632        ['embedding_5[0][0]']            \n",
      "                                                                                                  \n",
      " conv1d_16 (Conv1D)             (None, 100, 16)      4816        ['embedding_5[0][0]']            \n",
      "                                                                                                  \n",
      " conv1d_17 (Conv1D)             (None, 100, 8)       2408        ['embedding_5[0][0]']            \n",
      "                                                                                                  \n",
      " concatenate_2 (Concatenate)    (None, 250, 56)      0           ['conv1d_8[0][0]',               \n",
      "                                                                  'conv1d_9[0][0]',               \n",
      "                                                                  'conv1d_10[0][0]']              \n",
      "                                                                                                  \n",
      " concatenate_4 (Concatenate)    (None, 100, 56)      0           ['conv1d_15[0][0]',              \n",
      "                                                                  'conv1d_16[0][0]',              \n",
      "                                                                  'conv1d_17[0][0]']              \n",
      "                                                                                                  \n",
      " max_pooling1d_8 (MaxPooling1D)  (None, 125, 56)     0           ['concatenate_2[0][0]']          \n",
      "                                                                                                  \n",
      " max_pooling1d_10 (MaxPooling1D  (None, 50, 56)      0           ['concatenate_4[0][0]']          \n",
      " )                                                                                                \n",
      "                                                                                                  \n",
      " conv1d_11 (Conv1D)             (None, 63, 8)        3144        ['max_pooling1d_8[0][0]']        \n",
      "                                                                                                  \n",
      " conv1d_12 (Conv1D)             (None, 63, 16)       4496        ['max_pooling1d_8[0][0]']        \n",
      "                                                                                                  \n",
      " conv1d_13 (Conv1D)             (None, 63, 32)       5408        ['max_pooling1d_8[0][0]']        \n",
      "                                                                                                  \n",
      " conv1d_18 (Conv1D)             (None, 25, 8)        3144        ['max_pooling1d_10[0][0]']       \n",
      "                                                                                                  \n",
      " conv1d_19 (Conv1D)             (None, 25, 16)       4496        ['max_pooling1d_10[0][0]']       \n",
      "                                                                                                  \n",
      " conv1d_20 (Conv1D)             (None, 25, 32)       5408        ['max_pooling1d_10[0][0]']       \n",
      "                                                                                                  \n",
      " concatenate_3 (Concatenate)    (None, 63, 56)       0           ['conv1d_11[0][0]',              \n",
      "                                                                  'conv1d_12[0][0]',              \n",
      "                                                                  'conv1d_13[0][0]']              \n",
      "                                                                                                  \n",
      " concatenate_5 (Concatenate)    (None, 25, 56)       0           ['conv1d_18[0][0]',              \n",
      "                                                                  'conv1d_19[0][0]',              \n",
      "                                                                  'conv1d_20[0][0]']              \n",
      "                                                                                                  \n",
      " max_pooling1d_9 (MaxPooling1D)  (None, 32, 56)      0           ['concatenate_3[0][0]']          \n",
      "                                                                                                  \n",
      " max_pooling1d_11 (MaxPooling1D  (None, 13, 56)      0           ['concatenate_5[0][0]']          \n",
      " )                                                                                                \n",
      "                                                                                                  \n",
      " conv1d_14 (Conv1D)             (None, 16, 20)       3380        ['max_pooling1d_9[0][0]']        \n",
      "                                                                                                  \n",
      " conv1d_21 (Conv1D)             (None, 7, 20)        3380        ['max_pooling1d_11[0][0]']       \n",
      "                                                                                                  \n",
      " input_numerical (InputLayer)   [(None, 9)]          0           []                               \n",
      "                                                                                                  \n",
      " flatten_4 (Flatten)            (None, 320)          0           ['conv1d_14[0][0]']              \n",
      "                                                                                                  \n",
      " flatten_5 (Flatten)            (None, 140)          0           ['conv1d_21[0][0]']              \n",
      "                                                                                                  \n",
      " dense_10 (Dense)               (None, 128)          1280        ['input_numerical[0][0]']        \n",
      "                                                                                                  \n",
      " concatenate_6 (Concatenate)    (None, 588)          0           ['flatten_4[0][0]',              \n",
      "                                                                  'flatten_5[0][0]',              \n",
      "                                                                  'dense_10[0][0]']               \n",
      "                                                                                                  \n",
      " dense_11 (Dense)               (None, 128)          75392       ['concatenate_6[0][0]']          \n",
      "                                                                                                  \n",
      " batch_normalization (BatchNorm  (None, 128)         512         ['dense_11[0][0]']               \n",
      " alization)                                                                                       \n",
      "                                                                                                  \n",
      " dense_12 (Dense)               (None, 64)           8256        ['batch_normalization[0][0]']    \n",
      "                                                                                                  \n",
      " batch_normalization_1 (BatchNo  (None, 64)          256         ['dense_12[0][0]']               \n",
      " rmalization)                                                                                     \n",
      "                                                                                                  \n",
      " dense_13 (Dense)               (None, 32)           2080        ['batch_normalization_1[0][0]']  \n",
      "                                                                                                  \n",
      " batch_normalization_2 (BatchNo  (None, 32)          128         ['dense_13[0][0]']               \n",
      " rmalization)                                                                                     \n",
      "                                                                                                  \n",
      " dense_14 (Dense)               (None, 16)           528         ['batch_normalization_2[0][0]']  \n",
      "                                                                                                  \n",
      " model_output (Dense)           (None, 2)            34          ['dense_14[0][0]']               \n",
      "                                                                                                  \n",
      "==================================================================================================\n",
      "Total params: 255,034\n",
      "Trainable params: 254,586\n",
      "Non-trainable params: 448\n",
      "__________________________________________________________________________________________________\n"
     ]
    }
   ],
   "source": [
    "model1=Deep_CNN1D2()\n",
    "model1.summary()"
   ]
  },
  {
   "cell_type": "code",
   "execution_count": 94,
   "id": "3185f034",
   "metadata": {},
   "outputs": [],
   "source": [
    "import tensorflow as tf\n",
    "adam = tf.keras.optimizers.Adam(lr=0.0001)\n",
    "model1.compile(optimizer=adam, loss='categorical_crossentropy',metrics=['accuracy'])"
   ]
  },
  {
   "cell_type": "code",
   "execution_count": 95,
   "id": "fce341a5",
   "metadata": {},
   "outputs": [],
   "source": [
    "from tensorflow.keras.callbacks import *\n",
    "import os\n",
    "filepath=\"weights_11.best.hdf1\"\n",
    "checkpoint = ModelCheckpoint(filepath, monitor='val_accuracy', verbose=1, mode='max')\n",
    "earlystop = EarlyStopping(monitor = 'val_accuracy',  mode=\"max\",min_delta = 0, patience = 3,verbose = 1)\n",
    "reduce_lr = ReduceLROnPlateau(monitor = 'val_accuracy', factor = 0.25, patience = 2, verbose = 1)\n",
    "%reload_ext tensorboard\n",
    "import datetime\n",
    "logdir = os.path.join(\"logs_11\", datetime.datetime.now().strftime(\"%Y%m%d-%H%M%S\"))\n",
    "#tensorboard = tf.keras.callbacks.TensorBoard(logdir, histogram_freq=1)\n",
    "tensorboard = TensorBoard(log_dir=logdir, histogram_freq=0, write_graph=True, write_grads=False, write_images=False)\n",
    "callbacks = [checkpoint,reduce_lr,tensorboard,earlystop]"
   ]
  },
  {
   "cell_type": "code",
   "execution_count": 96,
   "id": "c8b88a74",
   "metadata": {},
   "outputs": [
    {
     "name": "stdout",
     "output_type": "stream",
     "text": [
      "Epoch 1/5\n",
      "1382/1382 [==============================] - ETA: 0s - loss: 0.6158 - accuracy: 0.6513\n",
      "Epoch 00001: saving model to weights_11.best.hdf1\n",
      "INFO:tensorflow:Assets written to: weights_11.best.hdf1\\assets\n",
      "1382/1382 [==============================] - 730s 527ms/step - loss: 0.6158 - accuracy: 0.6513 - val_loss: 0.5894 - val_accuracy: 0.6833 - lr: 1.0000e-04\n",
      "Epoch 2/5\n",
      "1382/1382 [==============================] - ETA: 0s - loss: 0.5764 - accuracy: 0.6924\n",
      "Epoch 00002: saving model to weights_11.best.hdf1\n",
      "INFO:tensorflow:Assets written to: weights_11.best.hdf1\\assets\n",
      "1382/1382 [==============================] - 666s 482ms/step - loss: 0.5764 - accuracy: 0.6924 - val_loss: 0.5800 - val_accuracy: 0.6883 - lr: 1.0000e-04\n",
      "Epoch 3/5\n",
      "1382/1382 [==============================] - ETA: 0s - loss: 0.5667 - accuracy: 0.7009\n",
      "Epoch 00003: saving model to weights_11.best.hdf1\n",
      "INFO:tensorflow:Assets written to: weights_11.best.hdf1\\assets\n",
      "1382/1382 [==============================] - 647s 468ms/step - loss: 0.5667 - accuracy: 0.7009 - val_loss: 0.5743 - val_accuracy: 0.6945 - lr: 1.0000e-04\n",
      "Epoch 4/5\n",
      "1382/1382 [==============================] - ETA: 0s - loss: 0.5591 - accuracy: 0.7075\n",
      "Epoch 00004: saving model to weights_11.best.hdf1\n",
      "INFO:tensorflow:Assets written to: weights_11.best.hdf1\\assets\n",
      "1382/1382 [==============================] - 650s 470ms/step - loss: 0.5591 - accuracy: 0.7075 - val_loss: 0.5803 - val_accuracy: 0.6928 - lr: 1.0000e-04\n",
      "Epoch 5/5\n",
      "1382/1382 [==============================] - ETA: 0s - loss: 0.5525 - accuracy: 0.7121\n",
      "Epoch 00005: saving model to weights_11.best.hdf1\n",
      "INFO:tensorflow:Assets written to: weights_11.best.hdf1\\assets\n",
      "\n",
      "Epoch 00005: ReduceLROnPlateau reducing learning rate to 2.499999936844688e-05.\n",
      "1382/1382 [==============================] - 652s 472ms/step - loss: 0.5525 - accuracy: 0.7121 - val_loss: 0.5760 - val_accuracy: 0.6939 - lr: 1.0000e-04\n"
     ]
    }
   ],
   "source": [
    "hitory1=model1.fit(x=X_train,y=y_train,epochs=5,batch_size=512,validation_data=(X_test, y_test),callbacks=callbacks)"
   ]
  },
  {
   "cell_type": "code",
   "execution_count": 97,
   "id": "6999acf7",
   "metadata": {},
   "outputs": [
    {
     "data": {
      "image/png": "[encoded data removed]",
      "text/plain": [
       "<Figure size 2160x360 with 2 Axes>"
      ]
     },
     "metadata": {
      "needs_background": "light"
     },
     "output_type": "display_data"
    }
   ],
   "source": [
    "import matplotlib.pyplot as plt\n",
    "plt.figure(figsize=(30, 5))\n",
    "plt.subplot(121)\n",
    "plt.plot(hitory1.history['loss'])\n",
    "plt.plot(hitory1.history['val_loss'])\n",
    "plt.title('Model Loss')\n",
    "plt.ylabel('loss')\n",
    "plt.xlabel('Epoch')\n",
    "plt.legend(['Train', 'Test'], loc='upper left')\n",
    "\n",
    "# Plot training & validation f1_score\n",
    "plt.subplot(122)\n",
    "plt.plot(hitory1.history['accuracy'])\n",
    "plt.plot(hitory1.history['val_accuracy'])\n",
    "plt.title('Model Accuracy')\n",
    "plt.ylabel('accuracy')\n",
    "plt.xlabel('Epoch')\n",
    "plt.legend(['Train', 'Test'], loc='upper left')\n",
    "plt.show()"
   ]
  },
  {
   "cell_type": "code",
   "execution_count": null,
   "id": "9d618311",
   "metadata": {},
   "outputs": [],
   "source": []
  }
 ],
 "metadata": {
  "kernelspec": {
   "display_name": "Python 3",
   "language": "python",
   "name": "python3"
  },
  "language_info": {
   "codemirror_mode": {
    "name": "ipython",
    "version": 3
   },
   "file_extension": ".py",
   "mimetype": "text/x-python",
   "name": "python",
   "nbconvert_exporter": "python",
   "pygments_lexer": "ipython3",
   "version": "3.8.8"
  }
 },
 "nbformat": 4,
 "nbformat_minor": 5
}
